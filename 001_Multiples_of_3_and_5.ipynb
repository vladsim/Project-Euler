{
 "cells": [
  {
   "cell_type": "code",
   "execution_count": 1,
   "metadata": {},
   "outputs": [],
   "source": [
    "# If we list all the natural numbers below 10 that are multiples of 3 or 5, we get 3, 5, 6 and 9. \n",
    "# The sum of these multiples is 23.\n",
    "# Find the sum of all the multiples of 3 or 5 below 1000."
   ]
  },
  {
   "cell_type": "code",
   "execution_count": 2,
   "metadata": {},
   "outputs": [
    {
     "name": "stdout",
     "output_type": "stream",
     "text": [
      "The result is 2333333316666668\n",
      "Required time to calculate is  21.872303009033203\n"
     ]
    }
   ],
   "source": [
    "import time\n",
    "start_time = time.time()\n",
    "\n",
    "max_num = 1000\n",
    "num = []\n",
    "for i in range(1,max_num):\n",
    "    if i % 3 == 0 or i % 5 == 0:\n",
    "        num.append(i)\n",
    "        \n",
    "total = 0\n",
    "for n in num:\n",
    "    total = total + n\n",
    "    \n",
    "end_time = time.time()\n",
    "print(\"The result is \" + str(total))\n",
    "print(\"Required time to calculate is \",end_time - start_time)"
   ]
  },
  {
   "cell_type": "code",
   "execution_count": 3,
   "metadata": {},
   "outputs": [
    {
     "name": "stdout",
     "output_type": "stream",
     "text": [
      "The result is 2333333416666668\n",
      "Required time to calculate is  18.244954109191895\n"
     ]
    }
   ],
   "source": [
    "# One more implementation\n",
    "import time\n",
    "start_time = time.time()\n",
    "\n",
    "num3 = []\n",
    "num5 = []\n",
    "num15 = []\n",
    "total3 = 0\n",
    "total5 = 0\n",
    "total15 = 0\n",
    "\n",
    "for i in range(1, int(max_num / 3) + 1):\n",
    "    num3.append(i * 3)\n",
    "for i in range(1, int(max_num / 5) + 1):\n",
    "    num5.append(i * 5)\n",
    "for i in range(1, int(max_num / 15) + 1):\n",
    "    num15.append(i * 15)\n",
    "\n",
    "for n in num3:\n",
    "    total3 = total3 + n\n",
    "for n in num5:\n",
    "    total5 = total5 + n\n",
    "for n in num15:\n",
    "    total15 = total15 + n\n",
    "total = total3 + total5 - total15\n",
    "\n",
    "end_time = time.time()\n",
    "print(\"The result is \" + str(total))\n",
    "print(\"Required time to calculate is \",end_time - start_time)"
   ]
  },
  {
   "cell_type": "code",
   "execution_count": null,
   "metadata": {},
   "outputs": [],
   "source": []
  }
 ],
 "metadata": {
  "kernelspec": {
   "display_name": "Python 3",
   "language": "python",
   "name": "python3"
  },
  "language_info": {
   "codemirror_mode": {
    "name": "ipython",
    "version": 3
   },
   "file_extension": ".py",
   "mimetype": "text/x-python",
   "name": "python",
   "nbconvert_exporter": "python",
   "pygments_lexer": "ipython3",
   "version": "3.8.5"
  }
 },
 "nbformat": 4,
 "nbformat_minor": 4
}
